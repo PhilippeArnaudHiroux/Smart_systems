{
 "cells": [
  {
   "cell_type": "markdown",
   "metadata": {
    "id": "74g0_tEs3Y0t"
   },
   "source": [
    "Libraries importeren"
   ]
  },
  {
   "cell_type": "code",
   "execution_count": 1,
   "metadata": {},
   "outputs": [
    {
     "name": "stderr",
     "output_type": "stream",
     "text": [
      "D:\\Anaconda3\\envs\\SmartSystems\\lib\\site-packages\\xgboost\\compat.py:36: FutureWarning: pandas.Int64Index is deprecated and will be removed from pandas in a future version. Use pandas.Index with the appropriate dtype instead.\n",
      "  from pandas import MultiIndex, Int64Index\n"
     ]
    }
   ],
   "source": [
    "import pandas as pd\n",
    "import matplotlib.pyplot as plt\n",
    "import xgboost as xgb\n",
    "from sklearn.model_selection import train_test_split"
   ]
  },
  {
   "cell_type": "markdown",
   "metadata": {},
   "source": [
    "Dataset importeren"
   ]
  },
  {
   "cell_type": "code",
   "execution_count": 2,
   "metadata": {},
   "outputs": [],
   "source": [
    "athletes = pd.read_csv(\"datasets/athlete_events.csv\")\n",
    "df = pd.DataFrame(athletes)"
   ]
  },
  {
   "cell_type": "markdown",
   "metadata": {},
   "source": [
    "Overzicht dataset laten zien"
   ]
  },
  {
   "cell_type": "code",
   "execution_count": 3,
   "metadata": {},
   "outputs": [],
   "source": [
    "df.head()\n",
    "compare = df"
   ]
  },
  {
   "cell_type": "markdown",
   "metadata": {},
   "source": [
    "Kolommen verwijderen en missing values opvullen"
   ]
  },
  {
   "cell_type": "code",
   "execution_count": 4,
   "metadata": {},
   "outputs": [],
   "source": [
    "df = df.drop([\"Height\", \"Weight\", \"ID\", \"Team\", \"Games\", \"Event\", \"Name\", \"City\", \"Sport\", \"NOC\", \"Season\"], axis=1)"
   ]
  },
  {
   "cell_type": "code",
   "execution_count": 5,
   "metadata": {},
   "outputs": [
    {
     "data": {
      "text/html": [
       "<div>\n",
       "<style scoped>\n",
       "    .dataframe tbody tr th:only-of-type {\n",
       "        vertical-align: middle;\n",
       "    }\n",
       "\n",
       "    .dataframe tbody tr th {\n",
       "        vertical-align: top;\n",
       "    }\n",
       "\n",
       "    .dataframe thead th {\n",
       "        text-align: right;\n",
       "    }\n",
       "</style>\n",
       "<table border=\"1\" class=\"dataframe\">\n",
       "  <thead>\n",
       "    <tr style=\"text-align: right;\">\n",
       "      <th></th>\n",
       "      <th>Sex</th>\n",
       "      <th>Age</th>\n",
       "      <th>Year</th>\n",
       "      <th>Medal</th>\n",
       "    </tr>\n",
       "  </thead>\n",
       "  <tbody>\n",
       "    <tr>\n",
       "      <th>0</th>\n",
       "      <td>0</td>\n",
       "      <td>24.0</td>\n",
       "      <td>1992</td>\n",
       "      <td>0</td>\n",
       "    </tr>\n",
       "    <tr>\n",
       "      <th>1</th>\n",
       "      <td>0</td>\n",
       "      <td>23.0</td>\n",
       "      <td>2012</td>\n",
       "      <td>0</td>\n",
       "    </tr>\n",
       "    <tr>\n",
       "      <th>2</th>\n",
       "      <td>0</td>\n",
       "      <td>24.0</td>\n",
       "      <td>1920</td>\n",
       "      <td>0</td>\n",
       "    </tr>\n",
       "    <tr>\n",
       "      <th>3</th>\n",
       "      <td>0</td>\n",
       "      <td>34.0</td>\n",
       "      <td>1900</td>\n",
       "      <td>3</td>\n",
       "    </tr>\n",
       "    <tr>\n",
       "      <th>4</th>\n",
       "      <td>1</td>\n",
       "      <td>21.0</td>\n",
       "      <td>1988</td>\n",
       "      <td>0</td>\n",
       "    </tr>\n",
       "    <tr>\n",
       "      <th>...</th>\n",
       "      <td>...</td>\n",
       "      <td>...</td>\n",
       "      <td>...</td>\n",
       "      <td>...</td>\n",
       "    </tr>\n",
       "    <tr>\n",
       "      <th>271111</th>\n",
       "      <td>0</td>\n",
       "      <td>29.0</td>\n",
       "      <td>1976</td>\n",
       "      <td>0</td>\n",
       "    </tr>\n",
       "    <tr>\n",
       "      <th>271112</th>\n",
       "      <td>0</td>\n",
       "      <td>27.0</td>\n",
       "      <td>2014</td>\n",
       "      <td>0</td>\n",
       "    </tr>\n",
       "    <tr>\n",
       "      <th>271113</th>\n",
       "      <td>0</td>\n",
       "      <td>27.0</td>\n",
       "      <td>2014</td>\n",
       "      <td>0</td>\n",
       "    </tr>\n",
       "    <tr>\n",
       "      <th>271114</th>\n",
       "      <td>0</td>\n",
       "      <td>30.0</td>\n",
       "      <td>1998</td>\n",
       "      <td>0</td>\n",
       "    </tr>\n",
       "    <tr>\n",
       "      <th>271115</th>\n",
       "      <td>0</td>\n",
       "      <td>34.0</td>\n",
       "      <td>2002</td>\n",
       "      <td>0</td>\n",
       "    </tr>\n",
       "  </tbody>\n",
       "</table>\n",
       "<p>271116 rows × 4 columns</p>\n",
       "</div>"
      ],
      "text/plain": [
       "        Sex   Age  Year  Medal\n",
       "0         0  24.0  1992      0\n",
       "1         0  23.0  2012      0\n",
       "2         0  24.0  1920      0\n",
       "3         0  34.0  1900      3\n",
       "4         1  21.0  1988      0\n",
       "...     ...   ...   ...    ...\n",
       "271111    0  29.0  1976      0\n",
       "271112    0  27.0  2014      0\n",
       "271113    0  27.0  2014      0\n",
       "271114    0  30.0  1998      0\n",
       "271115    0  34.0  2002      0\n",
       "\n",
       "[271116 rows x 4 columns]"
      ]
     },
     "execution_count": 5,
     "metadata": {},
     "output_type": "execute_result"
    }
   ],
   "source": [
    "df[\"Medal\"] = df[\"Medal\"].fillna(\"None\")\n",
    "df['Medal'].replace(['None', 'Bronze', 'Silver', 'Gold'], [0, 1, 2, 3], inplace=True)\n",
    "df['Sex'].replace([\"M\", \"F\"], [0, 1], inplace=True)\n",
    "df"
   ]
  },
  {
   "cell_type": "markdown",
   "metadata": {},
   "source": [
    "X en y waardes toekennen"
   ]
  },
  {
   "cell_type": "code",
   "execution_count": 6,
   "metadata": {},
   "outputs": [],
   "source": [
    "X = df.drop('Medal', axis=1)\n",
    "y = df['Medal']"
   ]
  },
  {
   "cell_type": "markdown",
   "metadata": {},
   "source": [
    "X/y train/test waardes toekennen"
   ]
  },
  {
   "cell_type": "code",
   "execution_count": 7,
   "metadata": {},
   "outputs": [],
   "source": [
    "X_train, X_test, y_train, y_test = train_test_split(X, y, test_size=0.2)"
   ]
  },
  {
   "cell_type": "markdown",
   "metadata": {},
   "source": [
    "Data transformeren naar Dmatrix"
   ]
  },
  {
   "cell_type": "code",
   "execution_count": 8,
   "metadata": {},
   "outputs": [
    {
     "name": "stderr",
     "output_type": "stream",
     "text": [
      "D:\\Anaconda3\\envs\\SmartSystems\\lib\\site-packages\\xgboost\\data.py:250: FutureWarning: pandas.Int64Index is deprecated and will be removed from pandas in a future version. Use pandas.Index with the appropriate dtype instead.\n",
      "  elif isinstance(data.columns, (pd.Int64Index, pd.RangeIndex)):\n"
     ]
    }
   ],
   "source": [
    "D_train = xgb.DMatrix(X_train, label=y_train)\n",
    "D_test = xgb.DMatrix(X_test, label=y_test)"
   ]
  },
  {
   "cell_type": "code",
   "execution_count": 9,
   "metadata": {
    "tags": []
   },
   "outputs": [],
   "source": [
    "param = {\n",
    "    'eta': 0.1,\n",
    "    'max_depth': 50,\n",
    "    'objective': 'multi:softprob',\n",
    "    'num_class': 4}\n",
    "steps = 50"
   ]
  },
  {
   "cell_type": "code",
   "execution_count": 10,
   "metadata": {},
   "outputs": [
    {
     "name": "stdout",
     "output_type": "stream",
     "text": [
      "[11:08:46] WARNING: C:\\Windows\\Temp\\abs_557yfx631l\\croots\\recipe\\xgboost-split_1659548953302\\work\\src\\learner.cc:1115: Starting in XGBoost 1.3.0, the default evaluation metric used with the objective 'multi:softprob' was changed from 'merror' to 'mlogloss'. Explicitly set eval_metric if you'd like to restore the old behavior.\n"
     ]
    }
   ],
   "source": [
    "model = xgb.train(param, D_train, steps)"
   ]
  },
  {
   "cell_type": "code",
   "execution_count": 11,
   "metadata": {},
   "outputs": [
    {
     "name": "stdout",
     "output_type": "stream",
     "text": [
      "Precision = 0.3594985942001878\n",
      "Recall = 0.25106383063770465\n",
      "Accuracy= 0.8512282384184126\n"
     ]
    }
   ],
   "source": [
    "import numpy as np\n",
    "from sklearn.metrics import precision_score, recall_score, accuracy_score\n",
    "\n",
    "preds = model.predict(D_test)\n",
    "best_preds = np.asarray([np.argmax(line) for line in preds])\n",
    "print(\"Precision = {}\".format(precision_score(y_test, best_preds,average='macro')))\n",
    "print(\"Recall = {}\".format(recall_score(y_test, best_preds, average='macro')))\n",
    "print(\"Accuracy= {}\".format(accuracy_score(y_test, best_preds)))"
   ]
  },
  {
   "cell_type": "code",
   "execution_count": 54,
   "metadata": {},
   "outputs": [],
   "source": [
    "array = []\n",
    "for i in y:\n",
    "    array.append(i)"
   ]
  },
  {
   "cell_type": "code",
   "execution_count": 83,
   "metadata": {},
   "outputs": [
    {
     "name": "stdout",
     "output_type": "stream",
     "text": [
      "Anomaly detected: expected no medal but got 3 prediction is:  0.0030447207\n",
      "ID                                   5396\n",
      "Name       Vladimir Nikolayevich Artyomov\n",
      "Sex                                     M\n",
      "Age                                  23.0\n",
      "Height                              167.0\n",
      "Weight                               63.0\n",
      "Team                         Soviet Union\n",
      "NOC                                   URS\n",
      "Games                         1988 Summer\n",
      "Year                                 1988\n",
      "Season                             Summer\n",
      "City                                Seoul\n",
      "Sport                          Gymnastics\n",
      "Event     Gymnastics Men's Horizontal Bar\n",
      "Medal                                Gold\n",
      "Name: 9860, dtype: object\n",
      "Anomaly detected: expected no medal but got 3 prediction is:  0.0030447207\n",
      "ID                               13670\n",
      "Name      Francesca Bortolozzi-Borella\n",
      "Sex                                  F\n",
      "Age                               24.0\n",
      "Height                           170.0\n",
      "Weight                            55.0\n",
      "Team                             Italy\n",
      "NOC                                ITA\n",
      "Games                      1992 Summer\n",
      "Year                              1992\n",
      "Season                          Summer\n",
      "City                         Barcelona\n",
      "Sport                          Fencing\n",
      "Event       Fencing Women's Foil, Team\n",
      "Medal                             Gold\n",
      "Name: 26224, dtype: object\n",
      "Anomaly detected: expected no medal but got 3 prediction is:  0.003044476\n",
      "ID                      15134\n",
      "Name         Jacques Brinkman\n",
      "Sex                         M\n",
      "Age                      34.0\n",
      "Height                  182.0\n",
      "Weight                   75.0\n",
      "Team              Netherlands\n",
      "NOC                       NED\n",
      "Games             2000 Summer\n",
      "Year                     2000\n",
      "Season                 Summer\n",
      "City                   Sydney\n",
      "Sport                  Hockey\n",
      "Event     Hockey Men's Hockey\n",
      "Medal                    Gold\n",
      "Name: 29310, dtype: object\n",
      "Anomaly detected: expected no medal but got 3 prediction is:  0.0030447207\n",
      "ID                               18662\n",
      "Name      Vincent Lamar \"Vince\" Carter\n",
      "Sex                                  M\n",
      "Age                               23.0\n",
      "Height                           195.0\n",
      "Weight                           102.0\n",
      "Team                     United States\n",
      "NOC                                USA\n",
      "Games                      2000 Summer\n",
      "Year                              2000\n",
      "Season                          Summer\n",
      "City                            Sydney\n",
      "Sport                       Basketball\n",
      "Event      Basketball Men's Basketball\n",
      "Medal                             Gold\n",
      "Name: 36316, dtype: object\n",
      "Anomaly detected: expected no medal but got 3 prediction is:  0.0030447207\n",
      "ID                                19901\n",
      "Name            Tina Alexandria Charles\n",
      "Sex                                   F\n",
      "Age                                27.0\n",
      "Height                            193.0\n",
      "Weight                             88.0\n",
      "Team                      United States\n",
      "NOC                                 USA\n",
      "Games                       2016 Summer\n",
      "Year                               2016\n",
      "Season                           Summer\n",
      "City                     Rio de Janeiro\n",
      "Sport                        Basketball\n",
      "Event     Basketball Women's Basketball\n",
      "Medal                              Gold\n",
      "Name: 38680, dtype: object\n",
      "Anomaly detected: expected no medal but got 3 prediction is:  0.0030447207\n",
      "ID                                    20310\n",
      "Name                           Chen Yanqing\n",
      "Sex                                       F\n",
      "Age                                    29.0\n",
      "Height                                158.0\n",
      "Weight                                 58.0\n",
      "Team                                  China\n",
      "NOC                                     CHN\n",
      "Games                           2008 Summer\n",
      "Year                                   2008\n",
      "Season                               Summer\n",
      "City                                Beijing\n",
      "Sport                         Weightlifting\n",
      "Event     Weightlifting Women's Lightweight\n",
      "Medal                                  Gold\n",
      "Name: 39464, dtype: object\n",
      "Anomaly detected: expected no medal but got 3 prediction is:  0.0030435154\n",
      "ID                            21795\n",
      "Name           Ellery Harding Clark\n",
      "Sex                               M\n",
      "Age                            22.0\n",
      "Height                        180.0\n",
      "Weight                          NaN\n",
      "Team                  United States\n",
      "NOC                             USA\n",
      "Games                   1896 Summer\n",
      "Year                           1896\n",
      "Season                       Summer\n",
      "City                         Athina\n",
      "Sport                     Athletics\n",
      "Event     Athletics Men's Long Jump\n",
      "Medal                          Gold\n",
      "Name: 42250, dtype: object\n",
      "Anomaly detected: expected no medal but got 3 prediction is:  0.0030435154\n",
      "ID                                 22692\n",
      "Name        Barthold Wayne \"Bart\" Conner\n",
      "Sex                                    M\n",
      "Age                                 26.0\n",
      "Height                             165.0\n",
      "Weight                              58.0\n",
      "Team                       United States\n",
      "NOC                                  USA\n",
      "Games                        1984 Summer\n",
      "Year                                1984\n",
      "Season                            Summer\n",
      "City                         Los Angeles\n",
      "Sport                         Gymnastics\n",
      "Event     Gymnastics Men's Parallel Bars\n",
      "Medal                               Gold\n",
      "Name: 44046, dtype: object\n"
     ]
    }
   ],
   "source": [
    "counter = 0\n",
    "for i in range(len(preds)):\n",
    "    if preds[i][3] < 0.0031 and array[i] == 3:\n",
    "        print('Anomaly detected: expected no medal but got', array[i], 'prediction is: ', preds[i][3])\n",
    "        print(compare.loc[i])"
   ]
  },
  {
   "cell_type": "code",
   "execution_count": null,
   "metadata": {},
   "outputs": [],
   "source": []
  }
 ],
 "metadata": {
  "colab": {
   "authorship_tag": "ABX9TyOHze0/Cb6IsgRmWgkHGmSq",
   "include_colab_link": true,
   "provenance": []
  },
  "kernelspec": {
   "display_name": "Python 3 (ipykernel)",
   "language": "python",
   "name": "python3"
  },
  "language_info": {
   "codemirror_mode": {
    "name": "ipython",
    "version": 3
   },
   "file_extension": ".py",
   "mimetype": "text/x-python",
   "name": "python",
   "nbconvert_exporter": "python",
   "pygments_lexer": "ipython3",
   "version": "3.9.13"
  }
 },
 "nbformat": 4,
 "nbformat_minor": 4
}
