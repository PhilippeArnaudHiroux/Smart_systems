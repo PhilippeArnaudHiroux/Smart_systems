{
 "cells": [
  {
   "cell_type": "markdown",
   "metadata": {
    "id": "74g0_tEs3Y0t"
   },
   "source": [
    "Libraries importeren"
   ]
  },
  {
   "cell_type": "code",
   "execution_count": 1,
   "metadata": {},
   "outputs": [
    {
     "name": "stderr",
     "output_type": "stream",
     "text": [
      "D:\\Anaconda3\\envs\\SmartSystems\\lib\\site-packages\\xgboost\\compat.py:36: FutureWarning: pandas.Int64Index is deprecated and will be removed from pandas in a future version. Use pandas.Index with the appropriate dtype instead.\n",
      "  from pandas import MultiIndex, Int64Index\n"
     ]
    }
   ],
   "source": [
    "import pandas as pd\n",
    "import matplotlib.pyplot as plt\n",
    "import xgboost as xgb\n",
    "from sklearn.model_selection import train_test_split"
   ]
  },
  {
   "cell_type": "markdown",
   "metadata": {},
   "source": [
    "Dataset importeren"
   ]
  },
  {
   "cell_type": "code",
   "execution_count": 2,
   "metadata": {},
   "outputs": [],
   "source": [
    "athletes = pd.read_csv(\"datasets/athlete_events.csv\")\n",
    "df = pd.DataFrame(athletes)"
   ]
  },
  {
   "cell_type": "markdown",
   "metadata": {},
   "source": [
    "Overzicht dataset laten zien"
   ]
  },
  {
   "cell_type": "code",
   "execution_count": 3,
   "metadata": {},
   "outputs": [],
   "source": [
    "df.head()\n",
    "compare = df"
   ]
  },
  {
   "cell_type": "markdown",
   "metadata": {},
   "source": [
    "Kolommen verwijderen en missing values opvullen"
   ]
  },
  {
   "cell_type": "code",
   "execution_count": 4,
   "metadata": {},
   "outputs": [],
   "source": [
    "df = df.drop([\"Height\", \"Weight\", \"ID\", \"Team\", \"Games\", \"Event\", \"Name\", \"City\", \"Sport\", \"NOC\", \"Season\"], axis=1)"
   ]
  },
  {
   "cell_type": "code",
   "execution_count": 5,
   "metadata": {},
   "outputs": [
    {
     "data": {
      "text/html": [
       "<div>\n",
       "<style scoped>\n",
       "    .dataframe tbody tr th:only-of-type {\n",
       "        vertical-align: middle;\n",
       "    }\n",
       "\n",
       "    .dataframe tbody tr th {\n",
       "        vertical-align: top;\n",
       "    }\n",
       "\n",
       "    .dataframe thead th {\n",
       "        text-align: right;\n",
       "    }\n",
       "</style>\n",
       "<table border=\"1\" class=\"dataframe\">\n",
       "  <thead>\n",
       "    <tr style=\"text-align: right;\">\n",
       "      <th></th>\n",
       "      <th>Sex</th>\n",
       "      <th>Age</th>\n",
       "      <th>Year</th>\n",
       "      <th>Medal</th>\n",
       "    </tr>\n",
       "  </thead>\n",
       "  <tbody>\n",
       "    <tr>\n",
       "      <th>0</th>\n",
       "      <td>0</td>\n",
       "      <td>24.0</td>\n",
       "      <td>1992</td>\n",
       "      <td>0</td>\n",
       "    </tr>\n",
       "    <tr>\n",
       "      <th>1</th>\n",
       "      <td>0</td>\n",
       "      <td>23.0</td>\n",
       "      <td>2012</td>\n",
       "      <td>0</td>\n",
       "    </tr>\n",
       "    <tr>\n",
       "      <th>2</th>\n",
       "      <td>0</td>\n",
       "      <td>24.0</td>\n",
       "      <td>1920</td>\n",
       "      <td>0</td>\n",
       "    </tr>\n",
       "    <tr>\n",
       "      <th>3</th>\n",
       "      <td>0</td>\n",
       "      <td>34.0</td>\n",
       "      <td>1900</td>\n",
       "      <td>3</td>\n",
       "    </tr>\n",
       "    <tr>\n",
       "      <th>4</th>\n",
       "      <td>1</td>\n",
       "      <td>21.0</td>\n",
       "      <td>1988</td>\n",
       "      <td>0</td>\n",
       "    </tr>\n",
       "    <tr>\n",
       "      <th>...</th>\n",
       "      <td>...</td>\n",
       "      <td>...</td>\n",
       "      <td>...</td>\n",
       "      <td>...</td>\n",
       "    </tr>\n",
       "    <tr>\n",
       "      <th>271111</th>\n",
       "      <td>0</td>\n",
       "      <td>29.0</td>\n",
       "      <td>1976</td>\n",
       "      <td>0</td>\n",
       "    </tr>\n",
       "    <tr>\n",
       "      <th>271112</th>\n",
       "      <td>0</td>\n",
       "      <td>27.0</td>\n",
       "      <td>2014</td>\n",
       "      <td>0</td>\n",
       "    </tr>\n",
       "    <tr>\n",
       "      <th>271113</th>\n",
       "      <td>0</td>\n",
       "      <td>27.0</td>\n",
       "      <td>2014</td>\n",
       "      <td>0</td>\n",
       "    </tr>\n",
       "    <tr>\n",
       "      <th>271114</th>\n",
       "      <td>0</td>\n",
       "      <td>30.0</td>\n",
       "      <td>1998</td>\n",
       "      <td>0</td>\n",
       "    </tr>\n",
       "    <tr>\n",
       "      <th>271115</th>\n",
       "      <td>0</td>\n",
       "      <td>34.0</td>\n",
       "      <td>2002</td>\n",
       "      <td>0</td>\n",
       "    </tr>\n",
       "  </tbody>\n",
       "</table>\n",
       "<p>271116 rows × 4 columns</p>\n",
       "</div>"
      ],
      "text/plain": [
       "        Sex   Age  Year  Medal\n",
       "0         0  24.0  1992      0\n",
       "1         0  23.0  2012      0\n",
       "2         0  24.0  1920      0\n",
       "3         0  34.0  1900      3\n",
       "4         1  21.0  1988      0\n",
       "...     ...   ...   ...    ...\n",
       "271111    0  29.0  1976      0\n",
       "271112    0  27.0  2014      0\n",
       "271113    0  27.0  2014      0\n",
       "271114    0  30.0  1998      0\n",
       "271115    0  34.0  2002      0\n",
       "\n",
       "[271116 rows x 4 columns]"
      ]
     },
     "execution_count": 5,
     "metadata": {},
     "output_type": "execute_result"
    }
   ],
   "source": [
    "df[\"Medal\"] = df[\"Medal\"].fillna(\"None\")\n",
    "df['Medal'].replace(['None', 'Bronze', 'Silver', 'Gold'], [0, 1, 2, 3], inplace=True)\n",
    "df['Sex'].replace([\"M\", \"F\"], [0, 1], inplace=True)\n",
    "df"
   ]
  },
  {
   "cell_type": "markdown",
   "metadata": {},
   "source": [
    "X en y waardes toekennen"
   ]
  },
  {
   "cell_type": "code",
   "execution_count": 6,
   "metadata": {},
   "outputs": [],
   "source": [
    "X = df.drop('Medal', axis=1)\n",
    "y = df['Medal']"
   ]
  },
  {
   "cell_type": "markdown",
   "metadata": {},
   "source": [
    "X/y train/test waardes toekennen"
   ]
  },
  {
   "cell_type": "code",
   "execution_count": 7,
   "metadata": {},
   "outputs": [],
   "source": [
    "X_train, X_test, y_train, y_test = train_test_split(X, y, test_size=0.2)"
   ]
  },
  {
   "cell_type": "markdown",
   "metadata": {},
   "source": [
    "Data transformeren naar Dmatrix"
   ]
  },
  {
   "cell_type": "code",
   "execution_count": 8,
   "metadata": {},
   "outputs": [
    {
     "name": "stderr",
     "output_type": "stream",
     "text": [
      "D:\\Anaconda3\\envs\\SmartSystems\\lib\\site-packages\\xgboost\\data.py:250: FutureWarning: pandas.Int64Index is deprecated and will be removed from pandas in a future version. Use pandas.Index with the appropriate dtype instead.\n",
      "  elif isinstance(data.columns, (pd.Int64Index, pd.RangeIndex)):\n"
     ]
    }
   ],
   "source": [
    "D_train = xgb.DMatrix(X_train, label=y_train)\n",
    "D_test = xgb.DMatrix(X_test, label=y_test)"
   ]
  },
  {
   "cell_type": "code",
   "execution_count": 9,
   "metadata": {
    "tags": []
   },
   "outputs": [],
   "source": [
    "param = {\n",
    "    'eta': 0.1,\n",
    "    'max_depth': 50,\n",
    "    'objective': 'multi:softprob',\n",
    "    'num_class': 4}\n",
    "steps = 50"
   ]
  },
  {
   "cell_type": "code",
   "execution_count": 10,
   "metadata": {},
   "outputs": [
    {
     "name": "stdout",
     "output_type": "stream",
     "text": [
      "[11:26:53] WARNING: C:\\Windows\\Temp\\abs_557yfx631l\\croots\\recipe\\xgboost-split_1659548953302\\work\\src\\learner.cc:1115: Starting in XGBoost 1.3.0, the default evaluation metric used with the objective 'multi:softprob' was changed from 'merror' to 'mlogloss'. Explicitly set eval_metric if you'd like to restore the old behavior.\n"
     ]
    }
   ],
   "source": [
    "model = xgb.train(param, D_train, steps)"
   ]
  },
  {
   "cell_type": "code",
   "execution_count": 11,
   "metadata": {},
   "outputs": [
    {
     "name": "stdout",
     "output_type": "stream",
     "text": [
      "Precision = 0.29295704810804185\n",
      "Recall = 0.250268214689288\n",
      "Accuracy= 0.8520396872233698\n"
     ]
    }
   ],
   "source": [
    "import numpy as np\n",
    "from sklearn.metrics import precision_score, recall_score, accuracy_score\n",
    "\n",
    "preds = model.predict(D_test)\n",
    "best_preds = np.asarray([np.argmax(line) for line in preds])\n",
    "print(\"Precision = {}\".format(precision_score(y_test, best_preds,average='macro')))\n",
    "print(\"Recall = {}\".format(recall_score(y_test, best_preds, average='macro')))\n",
    "print(\"Accuracy= {}\".format(accuracy_score(y_test, best_preds)))"
   ]
  },
  {
   "cell_type": "code",
   "execution_count": 12,
   "metadata": {},
   "outputs": [],
   "source": [
    "array = []\n",
    "for i in y:\n",
    "    array.append(i)"
   ]
  },
  {
   "cell_type": "code",
   "execution_count": 13,
   "metadata": {},
   "outputs": [
    {
     "name": "stdout",
     "output_type": "stream",
     "text": [
      "Anomaly detected: expected no medal but got 3 prediction is:  0.0030958892\n",
      "ID                         4418\n",
      "Name        Alyson Regina Annan\n",
      "Sex                           F\n",
      "Age                        27.0\n",
      "Height                    162.0\n",
      "Weight                     65.0\n",
      "Team                  Australia\n",
      "NOC                         AUS\n",
      "Games               2000 Summer\n",
      "Year                       2000\n",
      "Season                   Summer\n",
      "City                     Sydney\n",
      "Sport                    Hockey\n",
      "Event     Hockey Women's Hockey\n",
      "Medal                      Gold\n",
      "Name: 7981, dtype: object\n",
      "Anomaly detected: expected no medal but got 3 prediction is:  0.0030971337\n",
      "ID                                   23355\n",
      "Name                Gian Carlo Costigliolo\n",
      "Sex                                      M\n",
      "Age                                   26.0\n",
      "Height                                 NaN\n",
      "Weight                                 NaN\n",
      "Team                                 Italy\n",
      "NOC                                    ITA\n",
      "Games                          1920 Summer\n",
      "Year                                  1920\n",
      "Season                              Summer\n",
      "City                             Antwerpen\n",
      "Sport                           Gymnastics\n",
      "Event     Gymnastics Men's Team All-Around\n",
      "Medal                                 Gold\n",
      "Name: 45280, dtype: object\n"
     ]
    }
   ],
   "source": [
    "counter = 0\n",
    "for i in range(len(preds)):\n",
    "    if preds[i][3] < 0.0031 and array[i] == 3:\n",
    "        print('Anomaly detected: expected no medal but got', array[i], 'prediction is: ', preds[i][3])\n",
    "        print(compare.loc[i])"
   ]
  },
  {
   "cell_type": "code",
   "execution_count": null,
   "metadata": {},
   "outputs": [],
   "source": []
  }
 ],
 "metadata": {
  "colab": {
   "authorship_tag": "ABX9TyOHze0/Cb6IsgRmWgkHGmSq",
   "include_colab_link": true,
   "provenance": []
  },
  "kernelspec": {
   "display_name": "Python 3 (ipykernel)",
   "language": "python",
   "name": "python3"
  },
  "language_info": {
   "codemirror_mode": {
    "name": "ipython",
    "version": 3
   },
   "file_extension": ".py",
   "mimetype": "text/x-python",
   "name": "python",
   "nbconvert_exporter": "python",
   "pygments_lexer": "ipython3",
   "version": "3.9.13"
  }
 },
 "nbformat": 4,
 "nbformat_minor": 4
}
